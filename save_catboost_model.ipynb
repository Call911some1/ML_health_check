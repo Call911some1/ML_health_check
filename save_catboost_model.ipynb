{
 "cells": [
  {
   "cell_type": "code",
   "execution_count": 2,
   "metadata": {},
   "outputs": [
    {
     "name": "stdout",
     "output_type": "stream",
     "text": [
      "Модель успешно сохранена в файл 'catboost_model.cbm'.\n"
     ]
    }
   ],
   "source": [
    "import pandas as pd\n",
    "from sklearn.model_selection import train_test_split\n",
    "from sklearn.compose import ColumnTransformer\n",
    "from sklearn.pipeline import Pipeline\n",
    "from sklearn.impute import SimpleImputer\n",
    "from sklearn.preprocessing import StandardScaler, OneHotEncoder\n",
    "from catboost import CatBoostClassifier\n",
    "# Важная настройка для корректной настройки pipeline!\n",
    "import sklearn\n",
    "sklearn.set_config(transform_output=\"pandas\")\n",
    "\n",
    "# Загрузка данных\n",
    "train = pd.read_csv('heart.csv')\n",
    "\n",
    "# создаём дополнительную колонку для расчёта разницы сердечного ритма\n",
    "train['HR_Difference'] = (220 - train['Age']) - train['MaxHR']\n",
    "\n",
    "# Подготовка данных\n",
    "X = train.drop('HeartDisease', axis=1)\n",
    "y = train['HeartDisease']\n",
    "\n",
    "X_train, X_valid, y_train, y_valid = train_test_split(X, y, test_size=0.2, stratify=y, random_state=42)\n",
    "\n",
    "# Создание пайплайна для предобработки\n",
    "my_imputer = ColumnTransformer(\n",
    "    transformers=[\n",
    "        ('num_imputer_age', SimpleImputer(strategy='median'), ['Age']),\n",
    "        ('num_imputer_hr_diffrence', SimpleImputer(strategy='median'), ['HR_Difference']),\n",
    "        ('num_imputer_rest', SimpleImputer(strategy='median', missing_values=0), ['RestingBP']),\n",
    "        ('num_imputer_chol', SimpleImputer(strategy='median', missing_values=0), ['Cholesterol']),\n",
    "        ('num_imputer_fast', SimpleImputer(strategy='median', missing_values=0), ['FastingBS']),\n",
    "    ],\n",
    "    remainder='passthrough',\n",
    "    verbose_feature_names_out=False\n",
    ")\n",
    "\n",
    "scaler_and_encoder = ColumnTransformer(\n",
    "    transformers=[\n",
    "        ('num', StandardScaler(), ['Age', 'HR_Difference', 'RestingBP', 'Cholesterol', 'MaxHR', 'Oldpeak']),\n",
    "        ('cat', OneHotEncoder(sparse_output=False), ['Sex', 'ChestPainType', 'RestingECG', 'ExerciseAngina', 'ST_Slope'])\n",
    "    ],\n",
    "    remainder='passthrough',\n",
    "    verbose_feature_names_out=False\n",
    ")\n",
    "\n",
    "preprocessor = Pipeline([\n",
    "    ('imputer', my_imputer),\n",
    "    ('scaler_encoder', scaler_and_encoder)\n",
    "])\n",
    "\n",
    "# Преобразование тренировочных данных\n",
    "X_train_transformed = preprocessor.fit_transform(X_train, y_train)\n",
    "\n",
    "# Обучение модели CatBoost\n",
    "catboost_model = CatBoostClassifier(verbose=0)\n",
    "catboost_model.fit(X_train_transformed, y_train)\n",
    "\n",
    "# Сохранение модели\n",
    "catboost_model.save_model('catboost_model.cbm')\n",
    "print(\"Модель успешно сохранена в файл 'catboost_model.cbm'.\")\n"
   ]
  },
  {
   "cell_type": "code",
   "execution_count": null,
   "metadata": {},
   "outputs": [],
   "source": []
  }
 ],
 "metadata": {
  "kernelspec": {
   "display_name": "base",
   "language": "python",
   "name": "python3"
  },
  "language_info": {
   "codemirror_mode": {
    "name": "ipython",
    "version": 3
   },
   "file_extension": ".py",
   "mimetype": "text/x-python",
   "name": "python",
   "nbconvert_exporter": "python",
   "pygments_lexer": "ipython3",
   "version": "3.10.14"
  }
 },
 "nbformat": 4,
 "nbformat_minor": 2
}
